{
 "cells": [
  {
   "cell_type": "code",
   "execution_count": null,
   "metadata": {},
   "outputs": [],
   "source": [
    "# Copyright 2023, Acadential, All rights reserved."
   ]
  },
  {
   "cell_type": "markdown",
   "metadata": {},
   "source": [
    "# 9-3. Training Loop\n",
    "\n",
    "이번 시간에는 Training Loop을 구현해보겠습니다. \\\n",
    "Training Loop이란 모델의 학습을 위한 반복문을 의미합니다."
   ]
  },
  {
   "cell_type": "code",
   "execution_count": 2,
   "metadata": {},
   "outputs": [],
   "source": [
    "# 필요한 Library들을 import\n",
    "import torch \n",
    "from tqdm import tqdm \n",
    "from torch import nn \n",
    "# matplotlib for plotting\n",
    "import matplotlib.pyplot as plt\n",
    "\n",
    "# Importing the model \n",
    "# 저희가 앞선 실습에서 만들었던 모델을 가져옵니다.\n",
    "from src.model import NeuralNetwork\n",
    "\n",
    "# Importing the dataloaders\n",
    "from src.data import get_dataloaders\n",
    "\n"
   ]
  },
  {
   "cell_type": "markdown",
   "metadata": {},
   "source": [
    "## Define and initialize the model"
   ]
  },
  {
   "cell_type": "code",
   "execution_count": 3,
   "metadata": {},
   "outputs": [],
   "source": [
    "model = NeuralNetwork()"
   ]
  },
  {
   "cell_type": "markdown",
   "metadata": {},
   "source": [
    "## Load dataset and create dataloader"
   ]
  },
  {
   "cell_type": "code",
   "execution_count": 4,
   "metadata": {},
   "outputs": [],
   "source": [
    "train_dataloader, test_dataloader = get_dataloaders()"
   ]
  },
  {
   "cell_type": "markdown",
   "metadata": {},
   "source": [
    "## Define loss function\n",
    "\n",
    "Loss을 정의해주어야하는데, Classification 문제이기 때문에 CrossEntropyLoss를 사용하겠습니다. \\\n",
    "```reduction``` 옵션을 지정하지는 않았는데 (default값으로 ```reduction=\"mean\"```), 이는 loss를 계산할 때, batch의 평균을 사용하겠다는 의미입니다.\n"
   ]
  },
  {
   "cell_type": "code",
   "execution_count": 5,
   "metadata": {},
   "outputs": [],
   "source": [
    "loss_fn = nn.CrossEntropyLoss()"
   ]
  },
  {
   "cell_type": "markdown",
   "metadata": {},
   "source": [
    "## Define optimizer\n",
    "Section 8에서 살펴보았듯이 Optimizer은 모델의 파라미터를 업데이트하는 방법을 정의합니다. \\\n",
    "여기서는 SGD를 사용하겠습니다."
   ]
  },
  {
   "cell_type": "code",
   "execution_count": 6,
   "metadata": {},
   "outputs": [],
   "source": [
    "optimizer = torch.optim.SGD(model.parameters(),\n",
    "                            lr=0.001)"
   ]
  },
  {
   "cell_type": "code",
   "execution_count": 7,
   "metadata": {},
   "outputs": [
    {
     "name": "stderr",
     "output_type": "stream",
     "text": [
      "Loss: 2.3028: 100%|██████████| 938/938 [00:07<00:00, 126.08it/s]\n",
      "Loss: 2.2983: 100%|██████████| 938/938 [00:07<00:00, 130.64it/s]\n",
      "Loss: 2.2910: 100%|██████████| 938/938 [00:07<00:00, 132.79it/s]\n",
      "Loss: 2.2909: 100%|██████████| 938/938 [00:07<00:00, 126.53it/s]\n",
      "Loss: 2.2938: 100%|██████████| 938/938 [00:07<00:00, 131.39it/s]\n",
      "Loss: 2.2917: 100%|██████████| 938/938 [00:07<00:00, 132.15it/s]\n",
      "Loss: 2.2849: 100%|██████████| 938/938 [00:07<00:00, 126.00it/s]\n",
      "Loss: 2.2811: 100%|██████████| 938/938 [00:07<00:00, 123.92it/s]\n",
      "Loss: 2.2948: 100%|██████████| 938/938 [00:07<00:00, 122.13it/s]\n",
      "Loss: 2.2842: 100%|██████████| 938/938 [00:07<00:00, 131.35it/s]\n"
     ]
    }
   ],
   "source": [
    "loss_history = []\n",
    "epochs = 10\n",
    "\n",
    "for epoch in range(epochs):\n",
    "    tbar = tqdm(train_dataloader)\n",
    "    for (batch, label) in tbar:\n",
    "        # forward pass\n",
    "        pred = model(batch)\n",
    "        # loss 계산\n",
    "        loss = loss_fn(pred, label) \n",
    "        # backward pass (Loss에 대한 gradient 계산)\n",
    "        loss.backward()\n",
    "        # parameter update (Gradient Descent 수행)\n",
    "        optimizer.step()\n",
    "        # gradient 초기화\n",
    "        optimizer.zero_grad()  \n",
    "        tbar.set_description(f\"Loss: {loss.item():.4f}\")\n",
    "        loss_history.append(loss.item())"
   ]
  },
  {
   "cell_type": "code",
   "execution_count": 8,
   "metadata": {},
   "outputs": [
    {
     "data": {
      "text/plain": [
       "[<matplotlib.lines.Line2D at 0x240bba4c4a0>]"
      ]
     },
     "execution_count": 8,
     "metadata": {},
     "output_type": "execute_result"
    },
    {
     "data": {
      "image/png": "[encoded data removed]",
      "text/plain": [
       "<Figure size 640x480 with 1 Axes>"
      ]
     },
     "metadata": {},
     "output_type": "display_data"
    }
   ],
   "source": [
    "plt.figure()\n",
    "\n",
    "# training loss가 계속 줄어듦\n",
    "plt.plot(loss_history)"
   ]
  },
  {
   "cell_type": "code",
   "execution_count": null,
   "metadata": {},
   "outputs": [],
   "source": []
  },
  {
   "cell_type": "code",
   "execution_count": null,
   "metadata": {},
   "outputs": [],
   "source": []
  }
 ],
 "metadata": {
  "kernelspec": {
   "display_name": "Python 3 (ipykernel)",
   "language": "python",
   "name": "python3"
  },
  "language_info": {
   "codemirror_mode": {
    "name": "ipython",
    "version": 3
   },
   "file_extension": ".py",
   "mimetype": "text/x-python",
   "name": "python",
   "nbconvert_exporter": "python",
   "pygments_lexer": "ipython3",
   "version": "3.12.2"
  }
 },
 "nbformat": 4,
 "nbformat_minor": 4
}
